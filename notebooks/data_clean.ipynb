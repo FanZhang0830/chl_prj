{
 "cells": [
  {
   "cell_type": "code",
   "execution_count": null,
   "id": "8864e60b",
   "metadata": {
    "vscode": {
     "languageId": "plaintext"
    }
   },
   "outputs": [],
   "source": [
    "# This notebook is to show how to do data retrieval\n"
   ]
  }
 ],
 "metadata": {
  "language_info": {
   "name": "python"
  }
 },
 "nbformat": 4,
 "nbformat_minor": 5
}
